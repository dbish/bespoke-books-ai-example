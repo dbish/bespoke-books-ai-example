{
 "cells": [
  {
   "cell_type": "markdown",
   "id": "b51a9ffc",
   "metadata": {},
   "source": [
    "# Bespoke Books - Pictures to Coloring Book Example\n",
    "\n",
    "This notebook demonstrates the core logic for turning a folder of images into a coloring book using either OpenAI or Gemini."
   ]
  },
  {
   "cell_type": "markdown",
   "id": "834467dd",
   "metadata": {},
   "source": [
    "## Set API Keys\n",
    "\n",
    "Uncomment and fill in your API keys for the providers you want to use."
   ]
  },
  {
   "cell_type": "code",
   "execution_count": null,
   "id": "30f4f4c7",
   "metadata": {},
   "outputs": [],
   "source": [
    "import os\n",
    "# os.environ['OPENAI_API_KEY'] = 'sk-your-openai-key'\n",
    "# os.environ['GEMINI_API_KEY'] = 'your-gemini-key'"
   ]
  },
  {
   "cell_type": "markdown",
   "id": "ae72489d",
   "metadata": {},
   "source": [
    "## Configuration"
   ]
  },
  {
   "cell_type": "code",
   "execution_count": null,
   "id": "fcfec153",
   "metadata": {},
   "outputs": [],
   "source": [
    "from pathlib import Path\n",
    "IMAGE_FOLDER = Path('images')\n",
    "OUTPUT_FOLDER = Path('outputs')\n",
    "OUTPUT_FOLDER.mkdir(exist_ok=True)\n",
    "\n",
    "# Provider and style selection\n",
    "PROVIDER = 'gemini'  # or 'openai'\n",
    "\n",
    "prompt_template = (\"Transform the provided image into the artistic style of a child’s coloring book. \"\n",
    "                   \"Preserve the original composition but render it as if the characters are {style_string}, \"\n",
    "                   \"showing this style clearly by adding items as needed, but with high contrast black and white outlines. \"\n",
    "                   \"There should be no non black and white colors in the image. Make lines clean and well-defined.\")\n",
    "\n",
    "DEFAULT_PROMPTS = {\n",
    "    'standard': (\"Transform the provided image into the artistic style of a child’s coloring book. \"\n",
    "                 \"Preserve the original composition but render it in a clean, high contrast black and white outline, \"\n",
    "                 \"suitable to color in. There should be no non black and white colors in the image. \"\n",
    "                 \"Make lines clean and well-defined.\"),\n",
    "    'cowboys': prompt_template.format(style_string=\"cowboys\"),\n",
    "    'pirates': prompt_template.format(style_string=\"pirates\"),\n",
    "    'fantasy': prompt_template.format(style_string=\"in a fantasy book like lord of the rings\"),\n",
    "    'astronauts': prompt_template.format(style_string=\"astronauts\"),\n",
    "    'cover_addition': 'Add the text \"{title}\" as a title on the image in a google title font.'\n",
    "}\n",
    "\n",
    "def get_style_prompt(style_key: str) -> str:\n",
    "    return DEFAULT_PROMPTS.get(style_key, DEFAULT_PROMPTS['standard'])\n",
    "\n",
    "# One-line style selector and book metadata\n",
    "STYLE = 'standard'  # choose: 'standard', 'cowboys', 'pirates', 'fantasy', 'astronauts'\n",
    "TITLE =  \"Arthur's Coloring Book\"\n",
    "COVER_COLOR = '#ADD8E6'  # Hex color for the cover page background, e.g. '#FFEECC'\n",
    "\n",
    "# Base prompt for interior pages based on selected style\n",
    "PROMPT = get_style_prompt(STYLE)\n",
    "\n",
    "# Optional: if you want to generate a special cover image, set COVER_IMAGE to a path in IMAGE_FOLDER\n",
    "# and the prompt will include the title text.\n",
    "COVER_IMAGE = None  # e.g., IMAGE_FOLDER / 'cover.jpg' or None\n",
    "\n",
    "def get_cover_prompt(title: str, style_key: str) -> str:\n",
    "    base = get_style_prompt(style_key)\n",
    "    addition = DEFAULT_PROMPTS['cover_addition'].format(title=title)\n",
    "    return f\"{base} {addition}\""
   ]
  },
  {
   "cell_type": "markdown",
   "id": "47c05e11",
   "metadata": {},
   "source": [
    "## Process Images"
   ]
  },
  {
   "cell_type": "code",
   "execution_count": null,
   "id": "703fd528",
   "metadata": {},
   "outputs": [],
   "source": [
    "import asyncio\n",
    "from image_providers import ImageProvider\n",
    "provider = ImageProvider(PROVIDER)\n",
    "\n",
    "async def process_images():\n",
    "    # Optional cover image generation\n",
    "    if COVER_IMAGE:\n",
    "        cover_prompt = get_cover_prompt(TITLE, STYLE)\n",
    "        result = await provider.edit_image(str(COVER_IMAGE), cover_prompt)\n",
    "        out_path = OUTPUT_FOLDER / 'cover_coloring.png'\n",
    "        result.save(out_path)\n",
    "        print('Saved', out_path)\n",
    "\n",
    "    # Interior pages\n",
    "    for img_path in IMAGE_FOLDER.glob('*'):\n",
    "        if img_path.suffix.lower() not in ['.png', '.jpg', '.jpeg']:\n",
    "            continue\n",
    "        result = await provider.edit_image(str(img_path), PROMPT)\n",
    "        out_path = OUTPUT_FOLDER / f'{img_path.stem}_coloring.png'\n",
    "        result.save(out_path)\n",
    "        print('Saved', out_path)\n",
    "\n",
    "await process_images()"
   ]
  },
  {
   "cell_type": "markdown",
   "id": "6b54b61f",
   "metadata": {},
   "source": [
    "## Build PDF"
   ]
  },
  {
   "cell_type": "code",
   "execution_count": null,
   "id": "7f2c337f",
   "metadata": {},
   "outputs": [],
   "source": [
    "from pathlib import Path\n",
    "from typing import Tuple\n",
    "from PIL import Image\n",
    "from fpdf import FPDF\n",
    "\n",
    "def hex_to_rgb(hex_color: str) -> Tuple[int, int, int]:\n",
    "    hex_color = hex_color.lstrip('#')\n",
    "    if len(hex_color) == 3:\n",
    "        hex_color = ''.join(ch * 2 for ch in hex_color)\n",
    "    return tuple(int(hex_color[i:i+2], 16) for i in (0, 2, 4))  # type: ignore[return-value]\n",
    "\n",
    "pdf = FPDF(unit='pt', format='letter')\n",
    "\n",
    "# Front cover\n",
    "pdf.add_page()\n",
    "r, g, b = hex_to_rgb(COVER_COLOR)\n",
    "pdf.set_fill_color(r, g, b)\n",
    "pdf.rect(0, 0, pdf.w, pdf.h, 'F')\n",
    "\n",
    "# Choose text color based on background brightness\n",
    "brightness = r * 0.299 + g * 0.587 + b * 0.114\n",
    "if brightness > 128:\n",
    "    pdf.set_text_color(0, 0, 0)\n",
    "else:\n",
    "    pdf.set_text_color(255, 255, 255)\n",
    "\n",
    "pdf.set_font('Arial', 'B', 36)\n",
    "\n",
    "# If a generated cover image exists, place it; otherwise center the title text\n",
    "cover_img_path = OUTPUT_FOLDER / 'cover_coloring.png'\n",
    "if cover_img_path.exists():\n",
    "    margin = 36\n",
    "    max_width = pdf.w - 2 * margin\n",
    "    max_height = pdf.h - 2 * margin\n",
    "    with Image.open(cover_img_path) as img:\n",
    "        img_width, img_height = img.size\n",
    "    scale = min(max_width / img_width, max_height / img_height)\n",
    "    new_width = img_width * scale\n",
    "    new_height = img_height * scale\n",
    "    x = (pdf.w - new_width) / 2\n",
    "    y = (pdf.h - new_height) / 2\n",
    "    pdf.image(str(cover_img_path), x=x, y=y, w=new_width, h=new_height)\n",
    "else:\n",
    "    title_width = pdf.get_string_width(TITLE)\n",
    "    x = (pdf.w - title_width) / 2\n",
    "    y = pdf.h * 0.3\n",
    "    pdf.set_xy(x, y)\n",
    "    pdf.cell(title_width, 10, TITLE, 0, 1, 'C')\n",
    "\n",
    "# Interior pages\n",
    "interior_images = sorted(\n",
    "    [p for p in OUTPUT_FOLDER.glob('*_coloring.png') if p.name != 'cover_coloring.png']\n",
    ")\n",
    "for img_file in interior_images:\n",
    "    pdf.add_page()\n",
    "    margin = 36\n",
    "    max_width = pdf.w - 2 * margin\n",
    "    max_height = pdf.h - 2 * margin\n",
    "    with Image.open(img_file) as img:\n",
    "        img_width, img_height = img.size\n",
    "    scale = min(max_width / img_width, max_height / img_height)\n",
    "    new_width = img_width * scale\n",
    "    new_height = img_height * scale\n",
    "    x = (pdf.w - new_width) / 2\n",
    "    y = (pdf.h - new_height) / 2\n",
    "    pdf.image(str(img_file), x=x, y=y, w=new_width, h=new_height)\n",
    "\n",
    "PDF_OUTPUT = 'coloring_book.pdf'\n",
    "pdf.output(PDF_OUTPUT)\n",
    "print('PDF saved to', PDF_OUTPUT)"
   ]
  }
 ],
 "metadata": {
  "kernelspec": {
   "display_name": "venv",
   "language": "python",
   "name": "python3"
  },
  "language_info": {
   "codemirror_mode": {
    "name": "ipython",
    "version": 3
   },
   "file_extension": ".py",
   "mimetype": "text/x-python",
   "name": "python",
   "nbconvert_exporter": "python",
   "pygments_lexer": "ipython3",
   "version": "3.10.7"
  }
 },
 "nbformat": 4,
 "nbformat_minor": 5
}
